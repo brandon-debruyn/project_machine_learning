{
 "cells": [
  {
   "cell_type": "code",
   "execution_count": null,
   "metadata": {},
   "outputs": [],
   "source": [
    "import csv\n",
    "import pandas as pd\n",
    "import os\n",
    "\n",
    "DATA_PATH = os.path.join(\"data\")\n",
    "\n",
    "def load_data(data_path=DATA_PATH):\n",
    "    csv_path = os.path.join(data_path, \"housing.csv\")\n",
    "    return pd.read_csv(csv_path)"
   ]
  },
  {
   "cell_type": "markdown",
   "id": "24b8a5ee",
   "metadata": {},
   "source": [
    "## Data Investigation"
   ]
  },
  {
   "cell_type": "code",
   "execution_count": null,
   "id": "363a1ccc",
   "metadata": {},
   "outputs": [],
   "source": [
    "# loading data\n",
    "\n",
    "housing_data = load_data()\n",
    "housing_data.head(11)"
   ]
  },
  {
   "cell_type": "code",
   "execution_count": null,
   "id": "0d3a23ef",
   "metadata": {},
   "outputs": [],
   "source": [
    "# data description\n",
    "\n",
    "housing_data.info()"
   ]
  },
  {
   "cell_type": "code",
   "execution_count": null,
   "id": "7599e43c",
   "metadata": {},
   "outputs": [],
   "source": [
    "# ocean proximity -> type object (categorical data)\n",
    "\n",
    "housing_data[\"ocean_proximity\"].value_counts()"
   ]
  },
  {
   "cell_type": "code",
   "execution_count": null,
   "id": "92747118",
   "metadata": {},
   "outputs": [],
   "source": [
    "# data description\n",
    "\n",
    "housing_data.describe()"
   ]
  },
  {
   "cell_type": "markdown",
   "id": "65678ab2",
   "metadata": {},
   "source": [
    "## Data Visualization"
   ]
  },
  {
   "cell_type": "code",
   "execution_count": null,
   "id": "d06bf0c1",
   "metadata": {},
   "outputs": [],
   "source": [
    "%matplotlib inline\n",
    "import matplotlib.pyplot as plt\n",
    "\n",
    "# histogram to get a overall feel for the shape of the data\n",
    "housing_data.hist(bins=56, figsize=(23, 15))\n",
    "plt.show()"
   ]
  },
  {
   "cell_type": "code",
   "execution_count": null,
   "id": "4f4ec36a",
   "metadata": {},
   "outputs": [],
   "source": []
  }
 ],
 "metadata": {
  "interpreter": {
   "hash": "4e0b39fdc4f2df2992ef135d097972ec225e019845a073717c5b1bc8df292c8a"
  },
  "kernelspec": {
   "display_name": "Python 3.10.0 64-bit",
   "language": "python",
   "name": "python3"
  },
  "language_info": {
   "codemirror_mode": {
    "name": "ipython",
    "version": 3
   },
   "file_extension": ".py",
   "mimetype": "text/x-python",
   "name": "python",
   "nbconvert_exporter": "python",
   "pygments_lexer": "ipython3",
   "version": "3.10.0"
  }
 },
 "nbformat": 4,
 "nbformat_minor": 5
}
